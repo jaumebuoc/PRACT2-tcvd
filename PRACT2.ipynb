{
 "cells": [
  {
   "cell_type": "markdown",
   "id": "088db899",
   "metadata": {},
   "source": [
    "<div style=\"width: 100%; clear: both;\">\n",
    "\n",
    "<div style=\"float: left; width: 50%;\">\n",
    "\n",
    "<img src=\"http://www.uoc.edu/portal/_resources/common/imatges/marca_UOC/UOC_Masterbrand.jpg\" align=\"left\">\n",
    "\n",
    "</div>\n",
    "\n",
    "<div style=\"float: right; width: 50%;\">\n",
    "\n",
    "<p style=\"margin: 0; padding-top: 22px; text-align:right;\">Tipologia i cicle de vida de les dades</p>\n",
    "\n",
    "<p style=\"margin: 0; text-align:right;\">PRACT 2</p>\n",
    "\n",
    "<p style=\"margin: 0; text-align:right; padding-button: 100px;\">Francisco Javier Rivas Martín</p>\n",
    "<p style=\"margin: 0; text-align:right; padding-button: 100px;\">Jaume Bernaus Serra</p>\n",
    "\n",
    "</div>\n",
    "\n",
    "</div>\n",
    "\n",
    "<div style=\"width:100%;\">&nbsp;</div>"
   ]
  },
  {
   "cell_type": "code",
   "execution_count": 44,
   "id": "aa61e2de",
   "metadata": {},
   "outputs": [],
   "source": [
    "# Importar llibreries que farem servir al llarg de la pràctica\n",
    "import pandas as pd\n",
    "from datetime import datetime\n",
    "import seaborn as sns\n",
    "from sklearn.model_selection import GridSearchCV\n",
    "from sklearn.tree import DecisionTreeRegressor\n",
    "import matplotlib.pyplot as plt\n",
    "from sklearn.model_selection import train_test_split\n",
    "from sklearn.metrics import accuracy_score,r2_score\n",
    "from sklearn.cluster import KMeans\n",
    "from scipy.stats import shapiro, levene, ttest_ind\n"
   ]
  },
  {
   "cell_type": "markdown",
   "id": "1b9f3b65",
   "metadata": {},
   "source": [
    "<div style=\"background-color: #e6f2ff; border-radius: 8px; padding: 18px; margin-bottom: 16px;\">\n",
    "    <strong>1. Descripció del dataset.</strong> Perquè és important i quina pregunta/problema pretén respondre? Resumeix breument les variables que el formen i el seu tamany.\n",
    "</div>\n"
   ]
  },
  {
   "cell_type": "markdown",
   "id": "dc1063ac",
   "metadata": {},
   "source": [
    "<p>\n",
    "El dataset titulat \"Programació Musical del Palau de la Música Catalana: Concerts i Repertori\" recull informació sobre els concerts programats al Palau de la Música Catalana, una institució cultural emblemàtica de Barcelona dedicada a la promoció i difusió de l’art musical. Aquest dataset és important perquè permet analitzar tendències en la programació musical, identificar compositors més interpretats, estudiar la participació recurrent d’intèrprets, tot oferint una visió completa de l'activitat musical del Palau, que abasta gèneres tan diversos com el clàssic, el simfònic, el coral, el jazz, el flamenc i fins i tot el pop o el rock. A més, les dades provenen directament del web oficial del Palau (<a href=\"https://www.palaumusica.cat/ca/programacio_1158636\" target=\"_blank\">https://www.palaumusica.cat/ca/programacio_1158636</a>), una font fiable i actualitzada.\n",
    "</p>\n",
    "<p>\n",
    "Aquest conjunt de dades podria respondre a preguntes com ara quins gèneres musicals són més freqüents a la programació, quines obres o compositors es repeteixen amb més freqüència, si existeixen col·laboracions habituals entre intèrprets o grups o com es distribueixen els concerts segons la presència o absència de repertori explícit...\n",
    "</p>\n",
    "<p>\n",
    "Finalment es tractarà de respondre la pregunta: Quins gèneres musicals predominen a la programació del Palau de la Música Catalana? Es podria analitzar la variable <em>Etiquetes</em> per identificar quines categories s'utilitzen amb més freqüència. Això permetria entendre si hi ha una clara majoria de concerts clàssics o d'altres gèneres com el jazz, flamenc, rock o música moderna.\n",
    "</p>\n",
    "<p>\n",
    "Les variables disponibles al dataset són les següents:\n",
    "</p>\n",
    "<ul>\n",
    "    <li><strong>Enllaç</strong> : URL del concert al web oficial del Palau.</li>\n",
    "    <li><strong>Títol</strong> : nom del concert que pot incloure el nom de l’obra o grup.</li>\n",
    "    <li><strong>Etiquetes</strong> : gènere del concert. Per exemple: #clásico, #moderna...</li>\n",
    "    <li><strong>Data i hora</strong> : data i hora del concert en format DD/MM/YYYY HH:MM.</li>\n",
    "    <li><strong>Preu</strong> : preu d’entrada al concert.</li>\n",
    "    <li><strong>Repertori</strong> : llista de les obres interpretades durant el concert, en alguns casos també inclou detalls sobre autors, solistes, direcció, cor, ballet, etc.</li>\n",
    "</ul>\n",
    "<p>\n",
    "Pot passar que alguns camps poden contenir valors buits, especialment el camp Repertori, ja que no tots els concerts disposen d’un repertori específic, especialment en concerts de pop o rock. El dataset disponible mostra una gran varietat de concerts i dades per a l'anàlisi.\n",
    "</p>"
   ]
  },
  {
   "cell_type": "markdown",
   "id": "8330a712",
   "metadata": {},
   "source": [
    "<div style=\"background-color: #e6f2ff; border-radius: 8px; padding: 18px; margin-bottom: 16px;\">\n",
    "    <strong>2. Integració i selecció</strong> de les dades d’interès a analitzar. Pot ser el resultat adicionar diferents datasets o una subselecció útil de les dades originals, en base a l’objectiu que es vulgui aconseguir. Si es decideix treballar amb una selecció de les dades, és molt important que aquesta estigui degudament justificada. A més, es recomana mostrar un resum de les dades que permeti veure a simple vista les diferents variables i els seus rangs de valors.\n",
    "</div>"
   ]
  },
  {
   "cell_type": "markdown",
   "id": "90689659",
   "metadata": {},
   "source": [
    "<p>\n",
    "L'objectiu d'aquesta etapa és preparar el dataset perquè contingui només la informació rellevant per respondre a la pregunta plantejada. En aquest cas, ens centrarem en la variable <strong>Etiquetes</strong>, ja que conté el gènere musical de cada concert. A partir d’aquesta variable, podrem identificar quines categories són més freqüents i, per tant, quins gèneres predominen a la programació del Palau.\n",
    "</p>\n",
    "\n",
    "<p>\n",
    "Aquestes xifres són orientatives:\n",
    "</p>\n",
    "<table>\n",
    "    <tr><td>#clásico</td><td>45</td></tr>\n",
    "    <tr><td>#moderna</td><td>30</td></tr>\n",
    "    <tr><td>#jazz</td><td>12</td></tr>\n",
    "    <tr><td>#coral</td><td>18</td></tr>\n",
    "    <tr><td>#flamenco</td><td>10</td></tr>\n",
    "    <tr><td>#piano</td><td>8</td></tr>\n",
    "    <tr><td>#lied</td><td>5</td></tr>\n",
    "    <tr><td>#contemporánea</td><td>7</td></tr>\n",
    "    <tr><td>#pop</td><td>6</td></tr>\n",
    "</table>\n",
    "\n",
    "<p>\n",
    "S’ha prioritzat la variable <strong>Etiquetes</strong> ja que és l’eina directa per classificar els concerts segons el seu gènere o tipologia musical. A més, s’han mantingut altres variables com ara <strong>Títol</strong> i <strong>Data i hora</strong> per què poden ser útils per complementar l’anàlisi. En concret, el Títol pot ajudar a validar visualment la coherència de les etiquetes assignades mentre que la Data permet explorar patrons estacionals en la programació musical.\n",
    "</p>\n",
    "\n",
    "<p>\n",
    "D'altra banda, s’ha decidit eliminar la variable <strong>Enllaç</strong> per què no és rellevant per a l’anàlisi de gèneres musicals i el camp <strong>Repertori</strong> no s’ha inclòs en aquesta anàlisi inicial, ja que no sempre està complet i, en molts casos, requereix un processament textual addicional per extreure’n informació útil. Aquesta variable es podria tractar en futures anàlisis més centrades en el contingut dels concerts.\n",
    "\n",
    "S'ha transformat la variable original <strong>Preu</strong>, que es trobava en format textual i podia incloure intervals o textos addicionals, en una nova variable anomenada <strong>Preu Mínim</strong>. Aquesta variable s'ha obtingut mitjançant una expressió regular (regex) que extreu el valor numèric més baix del preu indicat per a cada concert. Aquesta variable serà la que intentarem predir més endavant.\n",
    "</p>"
   ]
  },
  {
   "cell_type": "code",
   "execution_count": 45,
   "id": "ded18685",
   "metadata": {},
   "outputs": [
    {
     "data": {
      "application/vnd.microsoft.datawrangler.viewer.v0+json": {
       "columns": [
        {
         "name": "index",
         "rawType": "object",
         "type": "string"
        },
        {
         "name": "Títol",
         "rawType": "object",
         "type": "unknown"
        },
        {
         "name": "Etiquetes",
         "rawType": "object",
         "type": "unknown"
        },
        {
         "name": "Data i hora",
         "rawType": "object",
         "type": "unknown"
        },
        {
         "name": "Preu",
         "rawType": "object",
         "type": "unknown"
        }
       ],
       "ref": "1abea58d-ff26-48bf-9e1a-695428b6c77d",
       "rows": [
        [
         "count",
         "142",
         "134",
         "140",
         "137"
        ],
        [
         "unique",
         "141",
         "79",
         "139",
         "86"
        ],
        [
         "top",
         "Orquesta de los Campos Elíseos & Herreweghe",
         "#moderna",
         "11/05/2025 17:00",
         "15 €"
        ],
        [
         "freq",
         "2",
         "13",
         "2",
         "11"
        ]
       ],
       "shape": {
        "columns": 4,
        "rows": 4
       }
      },
      "text/html": [
       "<div>\n",
       "<style scoped>\n",
       "    .dataframe tbody tr th:only-of-type {\n",
       "        vertical-align: middle;\n",
       "    }\n",
       "\n",
       "    .dataframe tbody tr th {\n",
       "        vertical-align: top;\n",
       "    }\n",
       "\n",
       "    .dataframe thead th {\n",
       "        text-align: right;\n",
       "    }\n",
       "</style>\n",
       "<table border=\"1\" class=\"dataframe\">\n",
       "  <thead>\n",
       "    <tr style=\"text-align: right;\">\n",
       "      <th></th>\n",
       "      <th>Títol</th>\n",
       "      <th>Etiquetes</th>\n",
       "      <th>Data i hora</th>\n",
       "      <th>Preu</th>\n",
       "    </tr>\n",
       "  </thead>\n",
       "  <tbody>\n",
       "    <tr>\n",
       "      <th>count</th>\n",
       "      <td>142</td>\n",
       "      <td>134</td>\n",
       "      <td>140</td>\n",
       "      <td>137</td>\n",
       "    </tr>\n",
       "    <tr>\n",
       "      <th>unique</th>\n",
       "      <td>141</td>\n",
       "      <td>79</td>\n",
       "      <td>139</td>\n",
       "      <td>86</td>\n",
       "    </tr>\n",
       "    <tr>\n",
       "      <th>top</th>\n",
       "      <td>Orquesta de los Campos Elíseos &amp; Herreweghe</td>\n",
       "      <td>#moderna</td>\n",
       "      <td>11/05/2025 17:00</td>\n",
       "      <td>15 €</td>\n",
       "    </tr>\n",
       "    <tr>\n",
       "      <th>freq</th>\n",
       "      <td>2</td>\n",
       "      <td>13</td>\n",
       "      <td>2</td>\n",
       "      <td>11</td>\n",
       "    </tr>\n",
       "  </tbody>\n",
       "</table>\n",
       "</div>"
      ],
      "text/plain": [
       "                                              Títol Etiquetes  \\\n",
       "count                                           142       134   \n",
       "unique                                          141        79   \n",
       "top     Orquesta de los Campos Elíseos & Herreweghe  #moderna   \n",
       "freq                                              2        13   \n",
       "\n",
       "             Data i hora  Preu  \n",
       "count                140   137  \n",
       "unique               139    86  \n",
       "top     11/05/2025 17:00  15 €  \n",
       "freq                   2    11  "
      ]
     },
     "execution_count": 45,
     "metadata": {},
     "output_type": "execute_result"
    }
   ],
   "source": [
    "# Carregar el dataset evitant errors de parseig\n",
    "df = pd.read_csv(\"concerts_dataset.csv\", on_bad_lines=\"skip\", delimiter=\";\", engine=\"python\")\n",
    "df.drop(columns=[\"Enllaç\", \"Repertori\"], inplace=True)\n",
    "df.describe()"
   ]
  },
  {
   "cell_type": "code",
   "execution_count": 46,
   "id": "097d0bea",
   "metadata": {},
   "outputs": [],
   "source": [
    "# Creem una nova columna \"Preu Mínim\" que conté el preu mínim de cada concert\n",
    "df[\"Preu Mínim\"] = df[\"Preu\"].str.extract(\"(\\d+)\")\n",
    "df[\"Preu Mínim\"] = df[\"Preu Mínim\"].astype(float)\n",
    "df.drop(columns=[\"Preu\"], inplace=True)"
   ]
  },
  {
   "cell_type": "markdown",
   "id": "a2e26001",
   "metadata": {},
   "source": [
    "<div style=\"background-color: #e6f2ff; border-radius: 8px; padding: 18px; margin-bottom: 16px;\">\n",
    "    <strong>3. Neteja de les dades.</strong><br><br>\n",
    "    3.1 Les dades contenen zeros, elements buits o altres valors numèrics que indiquin la pèrdua de dades? Gestiona cadascun d'aquests casos utilitzant el mètode d'imputació que consideris més adequat <br>\n",
    "    3.2 Identifica i gestiona adequadament el tipus de dada de cada atribut (p. ex. conversió de variables categòriques en factor). <br>\n",
    "    3.3 Identifica i gestiona els valors extrems. <br>\n",
    "    3.4 Justifica la necessitat d'altres mètodes de neteja per a aquest dataset en particular i, de ser necessari, aplica'ls.\n",
    "\n",
    "</div>"
   ]
  },
  {
   "cell_type": "code",
   "execution_count": 47,
   "id": "c1f28ecf",
   "metadata": {},
   "outputs": [
    {
     "name": "stdout",
     "output_type": "stream",
     "text": [
      "Títol           0\n",
      "Etiquetes       8\n",
      "Data i hora     2\n",
      "Preu Mínim     11\n",
      "dtype: int64\n"
     ]
    }
   ],
   "source": [
    "print(df.isna().sum())"
   ]
  },
  {
   "cell_type": "markdown",
   "id": "98985691",
   "metadata": {},
   "source": [
    "El primer que fem en la neteja de dades és tractar la variable Etiquetes. Com que és la principal variable explicativa, hem d’eliminar aquelles instàncies que no la tenen informada. Després, transformem cada etiqueta en la seva pròpia variable, i la marquem com a cert o fals en funció de si l’esdeveniment està categoritzat amb aquella etiqueta.\n",
    "\n",
    "Una altra acció que duem a terme per obtenir més variables explicatives és transformar la Data i hora en un factor amb tres opcions: Matí, Tarda i Nit, segons l’hora del concert. Aquesta informació l’emmagatzemem a la variable Franja Horària, que posteriorment també convertim en una variable per a cada opció.\n",
    "\n",
    "Mitjançant un boxplot, en la variable dependent, podem veure la presència d'outliers. Aquests els hem eliminat mitjançant el mètode del rang interquartílic. \n",
    "\n"
   ]
  },
  {
   "cell_type": "code",
   "execution_count": 48,
   "id": "b08b7e1a",
   "metadata": {},
   "outputs": [],
   "source": [
    "# Eliminar instancies sense etiquetes\n",
    "# df.dropna(subset=[\"Etiquetes\"], inplace=True)\n",
    "# df.reset_index(drop=True, inplace=True)\n",
    "\n",
    "# Crear variables per cada etiqueta\n",
    "etiquetes = set()\n",
    "for row in df[\"Etiquetes\"].dropna():\n",
    "    for etiqueta in row.split(\",\"):\n",
    "        etiquetes.add(etiqueta.strip())\n",
    "for etiqueta in etiquetes:\n",
    "    df[etiqueta.replace(\"#\", \"\")] = df[\"Etiquetes\"].apply(lambda row: True if etiqueta in str(row) else False)\n",
    "\n",
    "# Eliminar la columna 'Etiquetes' ja que no la necessitem\n",
    "df.drop(columns=[\"Etiquetes\"], inplace=True)"
   ]
  },
  {
   "cell_type": "code",
   "execution_count": 49,
   "id": "ed2bc8d5",
   "metadata": {},
   "outputs": [],
   "source": [
    "def franja_horaria_from_string(fh_str):\n",
    "    date = datetime.strptime(fh_str, \"%d/%m/%Y %H:%M\")\n",
    "    if date.hour >= 6 and date.hour < 12:\n",
    "        return \"Matí\"\n",
    "    elif date.hour >= 12 and date.hour < 18:\n",
    "        return \"Tarda\"\n",
    "    else:\n",
    "        return \"Nit\"\n",
    "\n",
    "df[\"Franja Horària\"] = df[\"Data i hora\"].apply(lambda x: franja_horaria_from_string(x) if pd.notna(x) else x)\n",
    "df_dummies = pd.get_dummies(df[\"Franja Horària\"], prefix=\"Franja Horària\")\n",
    "df = pd.concat([df, df_dummies], axis=1)\n",
    "df = df.drop(columns=[\"Títol\", \"Data i hora\", \"Franja Horària\"])"
   ]
  },
  {
   "cell_type": "code",
   "execution_count": 50,
   "id": "6de2f40b",
   "metadata": {},
   "outputs": [
    {
     "data": {
      "application/vnd.microsoft.datawrangler.viewer.v0+json": {
       "columns": [
        {
         "name": "index",
         "rawType": "object",
         "type": "string"
        },
        {
         "name": "Preu Mínim",
         "rawType": "float64",
         "type": "float"
        },
        {
         "name": "coral",
         "rawType": "object",
         "type": "unknown"
        },
        {
         "name": "conciertosaccesibles",
         "rawType": "object",
         "type": "unknown"
        },
        {
         "name": "nuevosformatos",
         "rawType": "object",
         "type": "unknown"
        },
        {
         "name": "patrimoniocatalán",
         "rawType": "object",
         "type": "unknown"
        },
        {
         "name": "popular",
         "rawType": "object",
         "type": "unknown"
        },
        {
         "name": "enfamilia",
         "rawType": "object",
         "type": "unknown"
        },
        {
         "name": "ópera",
         "rawType": "object",
         "type": "unknown"
        },
        {
         "name": "jazz",
         "rawType": "object",
         "type": "unknown"
        },
        {
         "name": "piano",
         "rawType": "object",
         "type": "unknown"
        },
        {
         "name": "estrenos",
         "rawType": "object",
         "type": "unknown"
        },
        {
         "name": "jóvenestalentos",
         "rawType": "object",
         "type": "unknown"
        },
        {
         "name": "antigua",
         "rawType": "object",
         "type": "unknown"
        },
        {
         "name": "gradajoven",
         "rawType": "object",
         "type": "unknown"
        },
        {
         "name": "sinfónica",
         "rawType": "object",
         "type": "unknown"
        },
        {
         "name": "contemporánea",
         "rawType": "object",
         "type": "unknown"
        },
        {
         "name": "lied",
         "rawType": "object",
         "type": "unknown"
        },
        {
         "name": "modernismo",
         "rawType": "object",
         "type": "unknown"
        },
        {
         "name": "cine",
         "rawType": "object",
         "type": "unknown"
        },
        {
         "name": "músicauniversal",
         "rawType": "object",
         "type": "unknown"
        },
        {
         "name": "aniversarios",
         "rawType": "object",
         "type": "unknown"
        },
        {
         "name": "moderna",
         "rawType": "object",
         "type": "unknown"
        },
        {
         "name": "grandesfiguras",
         "rawType": "object",
         "type": "unknown"
        },
        {
         "name": "flamenco",
         "rawType": "object",
         "type": "unknown"
        },
        {
         "name": "cámara",
         "rawType": "object",
         "type": "unknown"
        },
        {
         "name": "Franja Horària_Matí",
         "rawType": "object",
         "type": "unknown"
        },
        {
         "name": "Franja Horària_Nit",
         "rawType": "object",
         "type": "unknown"
        },
        {
         "name": "Franja Horària_Tarda",
         "rawType": "object",
         "type": "unknown"
        }
       ],
       "ref": "e5e31f6d-42fd-4b72-9d31-d1da33d4d29e",
       "rows": [
        [
         "count",
         "131.0",
         "142",
         "142",
         "142",
         "142",
         "142",
         "142",
         "142",
         "142",
         "142",
         "142",
         "142",
         "142",
         "142",
         "142",
         "142",
         "142",
         "142",
         "142",
         "142",
         "142",
         "142",
         "142",
         "142",
         "142",
         "142",
         "142",
         "142"
        ],
        [
         "unique",
         null,
         "2",
         "2",
         "2",
         "2",
         "2",
         "2",
         "2",
         "2",
         "2",
         "2",
         "2",
         "2",
         "2",
         "2",
         "2",
         "2",
         "2",
         "2",
         "2",
         "2",
         "2",
         "2",
         "2",
         "2",
         "2",
         "2",
         "2"
        ],
        [
         "top",
         null,
         "False",
         "False",
         "False",
         "False",
         "False",
         "False",
         "False",
         "False",
         "False",
         "False",
         "False",
         "False",
         "False",
         "False",
         "False",
         "False",
         "False",
         "False",
         "False",
         "False",
         "False",
         "False",
         "False",
         "False",
         "False",
         "True",
         "False"
        ],
        [
         "freq",
         null,
         "120",
         "131",
         "127",
         "137",
         "136",
         "130",
         "122",
         "138",
         "128",
         "137",
         "136",
         "128",
         "126",
         "106",
         "134",
         "136",
         "136",
         "137",
         "110",
         "139",
         "126",
         "109",
         "137",
         "133",
         "140",
         "125",
         "129"
        ],
        [
         "mean",
         "24.72519083969466",
         null,
         null,
         null,
         null,
         null,
         null,
         null,
         null,
         null,
         null,
         null,
         null,
         null,
         null,
         null,
         null,
         null,
         null,
         null,
         null,
         null,
         null,
         null,
         null,
         null,
         null,
         null
        ],
        [
         "std",
         "9.52167845183942",
         null,
         null,
         null,
         null,
         null,
         null,
         null,
         null,
         null,
         null,
         null,
         null,
         null,
         null,
         null,
         null,
         null,
         null,
         null,
         null,
         null,
         null,
         null,
         null,
         null,
         null,
         null
        ],
        [
         "min",
         "5.0",
         null,
         null,
         null,
         null,
         null,
         null,
         null,
         null,
         null,
         null,
         null,
         null,
         null,
         null,
         null,
         null,
         null,
         null,
         null,
         null,
         null,
         null,
         null,
         null,
         null,
         null,
         null
        ],
        [
         "25%",
         "19.0",
         null,
         null,
         null,
         null,
         null,
         null,
         null,
         null,
         null,
         null,
         null,
         null,
         null,
         null,
         null,
         null,
         null,
         null,
         null,
         null,
         null,
         null,
         null,
         null,
         null,
         null,
         null
        ],
        [
         "50%",
         "23.0",
         null,
         null,
         null,
         null,
         null,
         null,
         null,
         null,
         null,
         null,
         null,
         null,
         null,
         null,
         null,
         null,
         null,
         null,
         null,
         null,
         null,
         null,
         null,
         null,
         null,
         null,
         null
        ],
        [
         "75%",
         "30.0",
         null,
         null,
         null,
         null,
         null,
         null,
         null,
         null,
         null,
         null,
         null,
         null,
         null,
         null,
         null,
         null,
         null,
         null,
         null,
         null,
         null,
         null,
         null,
         null,
         null,
         null,
         null
        ],
        [
         "max",
         "70.0",
         null,
         null,
         null,
         null,
         null,
         null,
         null,
         null,
         null,
         null,
         null,
         null,
         null,
         null,
         null,
         null,
         null,
         null,
         null,
         null,
         null,
         null,
         null,
         null,
         null,
         null,
         null
        ]
       ],
       "shape": {
        "columns": 28,
        "rows": 11
       }
      },
      "text/html": [
       "<div>\n",
       "<style scoped>\n",
       "    .dataframe tbody tr th:only-of-type {\n",
       "        vertical-align: middle;\n",
       "    }\n",
       "\n",
       "    .dataframe tbody tr th {\n",
       "        vertical-align: top;\n",
       "    }\n",
       "\n",
       "    .dataframe thead th {\n",
       "        text-align: right;\n",
       "    }\n",
       "</style>\n",
       "<table border=\"1\" class=\"dataframe\">\n",
       "  <thead>\n",
       "    <tr style=\"text-align: right;\">\n",
       "      <th></th>\n",
       "      <th>Preu Mínim</th>\n",
       "      <th>coral</th>\n",
       "      <th>conciertosaccesibles</th>\n",
       "      <th>nuevosformatos</th>\n",
       "      <th>patrimoniocatalán</th>\n",
       "      <th>popular</th>\n",
       "      <th>enfamilia</th>\n",
       "      <th>ópera</th>\n",
       "      <th>jazz</th>\n",
       "      <th>piano</th>\n",
       "      <th>...</th>\n",
       "      <th>cine</th>\n",
       "      <th>músicauniversal</th>\n",
       "      <th>aniversarios</th>\n",
       "      <th>moderna</th>\n",
       "      <th>grandesfiguras</th>\n",
       "      <th>flamenco</th>\n",
       "      <th>cámara</th>\n",
       "      <th>Franja Horària_Matí</th>\n",
       "      <th>Franja Horària_Nit</th>\n",
       "      <th>Franja Horària_Tarda</th>\n",
       "    </tr>\n",
       "  </thead>\n",
       "  <tbody>\n",
       "    <tr>\n",
       "      <th>count</th>\n",
       "      <td>131.000000</td>\n",
       "      <td>142</td>\n",
       "      <td>142</td>\n",
       "      <td>142</td>\n",
       "      <td>142</td>\n",
       "      <td>142</td>\n",
       "      <td>142</td>\n",
       "      <td>142</td>\n",
       "      <td>142</td>\n",
       "      <td>142</td>\n",
       "      <td>...</td>\n",
       "      <td>142</td>\n",
       "      <td>142</td>\n",
       "      <td>142</td>\n",
       "      <td>142</td>\n",
       "      <td>142</td>\n",
       "      <td>142</td>\n",
       "      <td>142</td>\n",
       "      <td>142</td>\n",
       "      <td>142</td>\n",
       "      <td>142</td>\n",
       "    </tr>\n",
       "    <tr>\n",
       "      <th>unique</th>\n",
       "      <td>NaN</td>\n",
       "      <td>2</td>\n",
       "      <td>2</td>\n",
       "      <td>2</td>\n",
       "      <td>2</td>\n",
       "      <td>2</td>\n",
       "      <td>2</td>\n",
       "      <td>2</td>\n",
       "      <td>2</td>\n",
       "      <td>2</td>\n",
       "      <td>...</td>\n",
       "      <td>2</td>\n",
       "      <td>2</td>\n",
       "      <td>2</td>\n",
       "      <td>2</td>\n",
       "      <td>2</td>\n",
       "      <td>2</td>\n",
       "      <td>2</td>\n",
       "      <td>2</td>\n",
       "      <td>2</td>\n",
       "      <td>2</td>\n",
       "    </tr>\n",
       "    <tr>\n",
       "      <th>top</th>\n",
       "      <td>NaN</td>\n",
       "      <td>False</td>\n",
       "      <td>False</td>\n",
       "      <td>False</td>\n",
       "      <td>False</td>\n",
       "      <td>False</td>\n",
       "      <td>False</td>\n",
       "      <td>False</td>\n",
       "      <td>False</td>\n",
       "      <td>False</td>\n",
       "      <td>...</td>\n",
       "      <td>False</td>\n",
       "      <td>False</td>\n",
       "      <td>False</td>\n",
       "      <td>False</td>\n",
       "      <td>False</td>\n",
       "      <td>False</td>\n",
       "      <td>False</td>\n",
       "      <td>False</td>\n",
       "      <td>True</td>\n",
       "      <td>False</td>\n",
       "    </tr>\n",
       "    <tr>\n",
       "      <th>freq</th>\n",
       "      <td>NaN</td>\n",
       "      <td>120</td>\n",
       "      <td>131</td>\n",
       "      <td>127</td>\n",
       "      <td>137</td>\n",
       "      <td>136</td>\n",
       "      <td>130</td>\n",
       "      <td>122</td>\n",
       "      <td>138</td>\n",
       "      <td>128</td>\n",
       "      <td>...</td>\n",
       "      <td>137</td>\n",
       "      <td>110</td>\n",
       "      <td>139</td>\n",
       "      <td>126</td>\n",
       "      <td>109</td>\n",
       "      <td>137</td>\n",
       "      <td>133</td>\n",
       "      <td>140</td>\n",
       "      <td>125</td>\n",
       "      <td>129</td>\n",
       "    </tr>\n",
       "    <tr>\n",
       "      <th>mean</th>\n",
       "      <td>24.725191</td>\n",
       "      <td>NaN</td>\n",
       "      <td>NaN</td>\n",
       "      <td>NaN</td>\n",
       "      <td>NaN</td>\n",
       "      <td>NaN</td>\n",
       "      <td>NaN</td>\n",
       "      <td>NaN</td>\n",
       "      <td>NaN</td>\n",
       "      <td>NaN</td>\n",
       "      <td>...</td>\n",
       "      <td>NaN</td>\n",
       "      <td>NaN</td>\n",
       "      <td>NaN</td>\n",
       "      <td>NaN</td>\n",
       "      <td>NaN</td>\n",
       "      <td>NaN</td>\n",
       "      <td>NaN</td>\n",
       "      <td>NaN</td>\n",
       "      <td>NaN</td>\n",
       "      <td>NaN</td>\n",
       "    </tr>\n",
       "    <tr>\n",
       "      <th>std</th>\n",
       "      <td>9.521678</td>\n",
       "      <td>NaN</td>\n",
       "      <td>NaN</td>\n",
       "      <td>NaN</td>\n",
       "      <td>NaN</td>\n",
       "      <td>NaN</td>\n",
       "      <td>NaN</td>\n",
       "      <td>NaN</td>\n",
       "      <td>NaN</td>\n",
       "      <td>NaN</td>\n",
       "      <td>...</td>\n",
       "      <td>NaN</td>\n",
       "      <td>NaN</td>\n",
       "      <td>NaN</td>\n",
       "      <td>NaN</td>\n",
       "      <td>NaN</td>\n",
       "      <td>NaN</td>\n",
       "      <td>NaN</td>\n",
       "      <td>NaN</td>\n",
       "      <td>NaN</td>\n",
       "      <td>NaN</td>\n",
       "    </tr>\n",
       "    <tr>\n",
       "      <th>min</th>\n",
       "      <td>5.000000</td>\n",
       "      <td>NaN</td>\n",
       "      <td>NaN</td>\n",
       "      <td>NaN</td>\n",
       "      <td>NaN</td>\n",
       "      <td>NaN</td>\n",
       "      <td>NaN</td>\n",
       "      <td>NaN</td>\n",
       "      <td>NaN</td>\n",
       "      <td>NaN</td>\n",
       "      <td>...</td>\n",
       "      <td>NaN</td>\n",
       "      <td>NaN</td>\n",
       "      <td>NaN</td>\n",
       "      <td>NaN</td>\n",
       "      <td>NaN</td>\n",
       "      <td>NaN</td>\n",
       "      <td>NaN</td>\n",
       "      <td>NaN</td>\n",
       "      <td>NaN</td>\n",
       "      <td>NaN</td>\n",
       "    </tr>\n",
       "    <tr>\n",
       "      <th>25%</th>\n",
       "      <td>19.000000</td>\n",
       "      <td>NaN</td>\n",
       "      <td>NaN</td>\n",
       "      <td>NaN</td>\n",
       "      <td>NaN</td>\n",
       "      <td>NaN</td>\n",
       "      <td>NaN</td>\n",
       "      <td>NaN</td>\n",
       "      <td>NaN</td>\n",
       "      <td>NaN</td>\n",
       "      <td>...</td>\n",
       "      <td>NaN</td>\n",
       "      <td>NaN</td>\n",
       "      <td>NaN</td>\n",
       "      <td>NaN</td>\n",
       "      <td>NaN</td>\n",
       "      <td>NaN</td>\n",
       "      <td>NaN</td>\n",
       "      <td>NaN</td>\n",
       "      <td>NaN</td>\n",
       "      <td>NaN</td>\n",
       "    </tr>\n",
       "    <tr>\n",
       "      <th>50%</th>\n",
       "      <td>23.000000</td>\n",
       "      <td>NaN</td>\n",
       "      <td>NaN</td>\n",
       "      <td>NaN</td>\n",
       "      <td>NaN</td>\n",
       "      <td>NaN</td>\n",
       "      <td>NaN</td>\n",
       "      <td>NaN</td>\n",
       "      <td>NaN</td>\n",
       "      <td>NaN</td>\n",
       "      <td>...</td>\n",
       "      <td>NaN</td>\n",
       "      <td>NaN</td>\n",
       "      <td>NaN</td>\n",
       "      <td>NaN</td>\n",
       "      <td>NaN</td>\n",
       "      <td>NaN</td>\n",
       "      <td>NaN</td>\n",
       "      <td>NaN</td>\n",
       "      <td>NaN</td>\n",
       "      <td>NaN</td>\n",
       "    </tr>\n",
       "    <tr>\n",
       "      <th>75%</th>\n",
       "      <td>30.000000</td>\n",
       "      <td>NaN</td>\n",
       "      <td>NaN</td>\n",
       "      <td>NaN</td>\n",
       "      <td>NaN</td>\n",
       "      <td>NaN</td>\n",
       "      <td>NaN</td>\n",
       "      <td>NaN</td>\n",
       "      <td>NaN</td>\n",
       "      <td>NaN</td>\n",
       "      <td>...</td>\n",
       "      <td>NaN</td>\n",
       "      <td>NaN</td>\n",
       "      <td>NaN</td>\n",
       "      <td>NaN</td>\n",
       "      <td>NaN</td>\n",
       "      <td>NaN</td>\n",
       "      <td>NaN</td>\n",
       "      <td>NaN</td>\n",
       "      <td>NaN</td>\n",
       "      <td>NaN</td>\n",
       "    </tr>\n",
       "    <tr>\n",
       "      <th>max</th>\n",
       "      <td>70.000000</td>\n",
       "      <td>NaN</td>\n",
       "      <td>NaN</td>\n",
       "      <td>NaN</td>\n",
       "      <td>NaN</td>\n",
       "      <td>NaN</td>\n",
       "      <td>NaN</td>\n",
       "      <td>NaN</td>\n",
       "      <td>NaN</td>\n",
       "      <td>NaN</td>\n",
       "      <td>...</td>\n",
       "      <td>NaN</td>\n",
       "      <td>NaN</td>\n",
       "      <td>NaN</td>\n",
       "      <td>NaN</td>\n",
       "      <td>NaN</td>\n",
       "      <td>NaN</td>\n",
       "      <td>NaN</td>\n",
       "      <td>NaN</td>\n",
       "      <td>NaN</td>\n",
       "      <td>NaN</td>\n",
       "    </tr>\n",
       "  </tbody>\n",
       "</table>\n",
       "<p>11 rows × 28 columns</p>\n",
       "</div>"
      ],
      "text/plain": [
       "        Preu Mínim  coral conciertosaccesibles nuevosformatos  \\\n",
       "count   131.000000    142                  142            142   \n",
       "unique         NaN      2                    2              2   \n",
       "top            NaN  False                False          False   \n",
       "freq           NaN    120                  131            127   \n",
       "mean     24.725191    NaN                  NaN            NaN   \n",
       "std       9.521678    NaN                  NaN            NaN   \n",
       "min       5.000000    NaN                  NaN            NaN   \n",
       "25%      19.000000    NaN                  NaN            NaN   \n",
       "50%      23.000000    NaN                  NaN            NaN   \n",
       "75%      30.000000    NaN                  NaN            NaN   \n",
       "max      70.000000    NaN                  NaN            NaN   \n",
       "\n",
       "       patrimoniocatalán popular enfamilia  ópera   jazz  piano  ...   cine  \\\n",
       "count                142     142       142    142    142    142  ...    142   \n",
       "unique                 2       2         2      2      2      2  ...      2   \n",
       "top                False   False     False  False  False  False  ...  False   \n",
       "freq                 137     136       130    122    138    128  ...    137   \n",
       "mean                 NaN     NaN       NaN    NaN    NaN    NaN  ...    NaN   \n",
       "std                  NaN     NaN       NaN    NaN    NaN    NaN  ...    NaN   \n",
       "min                  NaN     NaN       NaN    NaN    NaN    NaN  ...    NaN   \n",
       "25%                  NaN     NaN       NaN    NaN    NaN    NaN  ...    NaN   \n",
       "50%                  NaN     NaN       NaN    NaN    NaN    NaN  ...    NaN   \n",
       "75%                  NaN     NaN       NaN    NaN    NaN    NaN  ...    NaN   \n",
       "max                  NaN     NaN       NaN    NaN    NaN    NaN  ...    NaN   \n",
       "\n",
       "       músicauniversal aniversarios moderna grandesfiguras flamenco cámara  \\\n",
       "count              142          142     142            142      142    142   \n",
       "unique               2            2       2              2        2      2   \n",
       "top              False        False   False          False    False  False   \n",
       "freq               110          139     126            109      137    133   \n",
       "mean               NaN          NaN     NaN            NaN      NaN    NaN   \n",
       "std                NaN          NaN     NaN            NaN      NaN    NaN   \n",
       "min                NaN          NaN     NaN            NaN      NaN    NaN   \n",
       "25%                NaN          NaN     NaN            NaN      NaN    NaN   \n",
       "50%                NaN          NaN     NaN            NaN      NaN    NaN   \n",
       "75%                NaN          NaN     NaN            NaN      NaN    NaN   \n",
       "max                NaN          NaN     NaN            NaN      NaN    NaN   \n",
       "\n",
       "       Franja Horària_Matí Franja Horària_Nit Franja Horària_Tarda  \n",
       "count                  142                142                  142  \n",
       "unique                   2                  2                    2  \n",
       "top                  False               True                False  \n",
       "freq                   140                125                  129  \n",
       "mean                   NaN                NaN                  NaN  \n",
       "std                    NaN                NaN                  NaN  \n",
       "min                    NaN                NaN                  NaN  \n",
       "25%                    NaN                NaN                  NaN  \n",
       "50%                    NaN                NaN                  NaN  \n",
       "75%                    NaN                NaN                  NaN  \n",
       "max                    NaN                NaN                  NaN  \n",
       "\n",
       "[11 rows x 28 columns]"
      ]
     },
     "execution_count": 50,
     "metadata": {},
     "output_type": "execute_result"
    }
   ],
   "source": [
    "df.describe(include=\"all\")"
   ]
  },
  {
   "cell_type": "code",
   "execution_count": 51,
   "id": "0880759a",
   "metadata": {},
   "outputs": [
    {
     "data": {
      "image/png": "[encoded data removed]",
      "text/plain": [
       "<Figure size 300x400 with 1 Axes>"
      ]
     },
     "metadata": {},
     "output_type": "display_data"
    }
   ],
   "source": [
    "# Boxplot Outliers\n",
    "plt.figure(figsize=(3, 4))\n",
    "sns.boxplot(y=df[\"Preu Mínim\"])\n",
    "plt.title(\"Boxplot Preu Mínim\")\n",
    "plt.ylabel(\"Preu Mínim\")\n",
    "plt.show()"
   ]
  },
  {
   "cell_type": "code",
   "execution_count": 52,
   "id": "1ffb5c54",
   "metadata": {},
   "outputs": [],
   "source": [
    "# Eliminar els outilers que veiem en el boxplot\n",
    "Q1 = df[\"Preu Mínim\"].quantile(0.25)\n",
    "Q3 = df[\"Preu Mínim\"].quantile(0.75)\n",
    "IQR = Q3 - Q1\n",
    "lower = Q1 - 1.5 * IQR\n",
    "upper = Q3 + 1.5 * IQR\n",
    "\n",
    "df = df[(df[\"Preu Mínim\"] >= lower) & (df[\"Preu Mínim\"] <= upper)]"
   ]
  },
  {
   "cell_type": "markdown",
   "id": "cd88795a",
   "metadata": {},
   "source": [
    "<div style=\"background-color: #e6f2ff; border-radius: 8px; padding: 18px; margin-bottom: 16px;\">\n",
    "    <strong>4. Anàlisi de les dades.</strong><br>\n",
    "    4.1 Aplica un model supervisat i un no supervisat a les dades i comenta els resultats obtinguts.<br>\n",
    "    4.2 Aplica una prova per contrast d'hipòtesi. Tingues en compte que algunes d'aquestes proves requereixen verificar prèviament la normalitat i homocedasticitat de les dades.\n",
    "</div>\n"
   ]
  },
  {
   "cell_type": "markdown",
   "id": "1ebb6984",
   "metadata": {},
   "source": [
    "Com a model supervisat, hem escollit un arbre de decisió per intentar predir la nostra variable dependent, que és el preu mínim de l’entrada. Per fer-ho, hem dividit les dades en subconjunts d’entrenament i de test. Per escollir els millors hiperparàmetres, hem fet servir la funció GridSearchCV de la llibreria sklearn, que ens permet provar diversos valors d’hiperparàmetres i ens ajuda a seleccionar els més adequats.\n",
    "\n",
    "En aquest cas, el resultat òptim ha estat una profunditat màxima de l’arbre de 6 nivells i un mínim de 14 instàncies per fulla. Obtenim un valor R2 molt baix, d’aproximadament 0.35, cosa que indica que som capaços de capturar només una petita part de la variància del model. El resultat és encara pitjor quan ho provem amb les dades del conjunt de test: obtenim un valor molt proper a 0 i fins i tot negatiu en algunes execucions, cosa que vol dir que el model no és capaç de predir correctament les dades."
   ]
  },
  {
   "cell_type": "code",
   "execution_count": 53,
   "id": "f8a82638",
   "metadata": {},
   "outputs": [],
   "source": [
    "X = df.drop(columns=[\"Preu Mínim\"])\n",
    "y = df[\"Preu Mínim\"]\n",
    "\n",
    "X_train, X_test, y_train, y_test = train_test_split(X, y, test_size=0.2, random_state=42)"
   ]
  },
  {
   "cell_type": "code",
   "execution_count": 54,
   "id": "9065d123",
   "metadata": {},
   "outputs": [
    {
     "name": "stdout",
     "output_type": "stream",
     "text": [
      "Millors hiperparàmetres: {'max_depth': 8, 'min_samples_split': 7}, r2: 0.3625681904257787\n"
     ]
    }
   ],
   "source": [
    "# 4.1 Model supervisat - Arbre de Decisió (calculant valor òptim amb GridSearchCV)\n",
    "param_grid = {\n",
    "    \"max_depth\": range(1, 20),\n",
    "    \"min_samples_split\": range(2, 20),\n",
    "}\n",
    "grid = GridSearchCV(estimator=DecisionTreeRegressor(), param_grid=param_grid, scoring=\"r2\", cv=5)\n",
    "grid.fit(X_train, y_train)\n",
    "print(f\"Millors hiperparàmetres: {grid.best_params_}, r2: {grid.best_score_}\")"
   ]
  },
  {
   "cell_type": "code",
   "execution_count": 55,
   "id": "73aefaf3",
   "metadata": {},
   "outputs": [
    {
     "name": "stdout",
     "output_type": "stream",
     "text": [
      "R2 sobre el conjunt de test: -0.125\n"
     ]
    }
   ],
   "source": [
    "# Validar el model amb el conjunt de test\n",
    "model = DecisionTreeRegressor(**grid.best_params_)\n",
    "model.fit(X_train, y_train)\n",
    "r2 = r2_score(y_test, model.predict(X_test))\n",
    "print(f\"R2 sobre el conjunt de test: {r2:.3f}\")"
   ]
  },
  {
   "cell_type": "markdown",
   "id": "354ebfbc",
   "metadata": {},
   "source": [
    "Com a model no supervisat, fem clustering mitjançant el mètode k-means. Escollim el valor òptim de k analitzant la suma dels residus quadrats (elbow method). El valor òptim trobat és k = 3, ja que les diferències entre passar d’1 a 2 clústers i de 2 a 3 són més significatives que les següents disminucions.\n",
    "\n",
    "Les característiques dels tres clústers resultants són les següents:\n",
    "\n",
    "<strong>Clúster 0</strong> (31 instàncies):\n",
    "Esdeveniments principalment de nit amb una programació força variada, tot i que destaquen etiquetes com sinfónica, grandes figuras, música universal i piano, ja que la majoria d’instàncies que contenen aquestes etiquetes han estat classificades en aquest clúster.\n",
    "\n",
    "<strong>Clúster 1</strong> (86 instàncies):\n",
    "Esdeveniments exclusivament de nit, amb una gran varietat d’etiquetes que han estat classificades al 100% dins d’aquest grup. Destaquen, per exemple: flamenco, patrimoni català, jóvenes talentos, cine, cámara, entre d’altres.\n",
    "\n",
    "<strong>Clúster 2</strong> (12 instàncies):\n",
    "Inclou la majoria d’esdeveniments de tarda i tots els de matí. No destaca per cap categoria o etiqueta específica, però sí per tenir una mitjana de preus substancialment més baixa que la dels altres dos clústers.\n"
   ]
  },
  {
   "cell_type": "code",
   "execution_count": 56,
   "id": "8554679f",
   "metadata": {},
   "outputs": [
    {
     "data": {
      "image/png": "[encoded data removed]",
      "text/plain": [
       "<Figure size 600x400 with 1 Axes>"
      ]
     },
     "metadata": {},
     "output_type": "display_data"
    }
   ],
   "source": [
    "# 4.2 Model no supervisat - K-means clustering\n",
    "rss = []\n",
    "k_range = range(1, 11)\n",
    "for k in k_range:\n",
    "    kmeans_tmp = KMeans(n_clusters=k, random_state=42)\n",
    "    kmeans_tmp.fit(X)\n",
    "    rss.append(kmeans_tmp.inertia_)\n",
    "\n",
    "plt.figure(figsize=(6, 4))\n",
    "plt.plot(k_range, rss, marker='o')\n",
    "plt.xlabel('Num Clusters')\n",
    "plt.ylabel('Suma de residus quadrats')\n",
    "plt.xticks(k_range)\n",
    "plt.grid(True)\n",
    "plt.show()\n"
   ]
  },
  {
   "cell_type": "code",
   "execution_count": 57,
   "id": "6e5d728e",
   "metadata": {},
   "outputs": [],
   "source": [
    "kmeans = KMeans(n_clusters=3, random_state=42)\n",
    "clusters = kmeans.fit_predict(X)\n",
    "df[\"Cluster\"] = clusters"
   ]
  },
  {
   "cell_type": "code",
   "execution_count": 58,
   "id": "301a90c1",
   "metadata": {},
   "outputs": [
    {
     "name": "stdout",
     "output_type": "stream",
     "text": [
      "\n",
      "Número d'instancies per cluster:\n",
      "Cluster\n",
      "1    92\n",
      "0    25\n",
      "2    12\n",
      "Name: count, dtype: int64\n",
      "Cluster                      0         1         2  Total\n",
      "coral                 0.166667  0.500000  0.333333     18\n",
      "conciertosaccesibles  0.111111  0.777778  0.111111      9\n",
      "nuevosformatos        0.000000  0.692308  0.307692     13\n",
      "patrimoniocatalán     0.000000  1.000000  0.000000      4\n",
      "popular               0.000000  1.000000  0.000000      6\n",
      "enfamilia             0.000000  0.363636  0.636364     11\n",
      "ópera                 0.000000  0.894737  0.105263     19\n",
      "jazz                  0.000000  1.000000  0.000000      2\n",
      "piano                 0.583333  0.416667  0.000000     12\n",
      "estrenos              0.000000  0.666667  0.333333      3\n",
      "jóvenestalentos       0.000000  1.000000  0.000000      4\n",
      "antigua               0.000000  0.846154  0.153846     13\n",
      "gradajoven            0.642857  0.214286  0.142857     14\n",
      "sinfónica             0.741935  0.193548  0.064516     31\n",
      "contemporánea         0.000000  0.750000  0.250000      8\n",
      "lied                  0.000000  1.000000  0.000000      6\n",
      "modernismo            0.166667  0.500000  0.333333      6\n",
      "cine                  0.000000  1.000000  0.000000      5\n",
      "músicauniversal       0.678571  0.285714  0.035714     28\n",
      "aniversarios          0.333333  0.666667  0.000000      3\n",
      "moderna               0.000000  1.000000  0.000000     15\n",
      "grandesfiguras        0.666667  0.333333  0.000000     27\n",
      "flamenco              0.000000  1.000000  0.000000      5\n",
      "cámara                0.000000  1.000000  0.000000      8\n",
      "Franja Horària_Matí   0.000000  0.000000  1.000000      2\n",
      "Franja Horària_Nit    0.200000  0.800000  0.000000    115\n",
      "Franja Horària_Tarda  0.166667  0.000000  0.833333     12\n",
      "\n",
      "Preu mitjà  cluster:\n",
      "Cluster\n",
      "0    24.280000\n",
      "1    24.663043\n",
      "2    20.250000\n",
      "Name: Preu Mínim, dtype: float64\n"
     ]
    }
   ],
   "source": [
    "# Número d'instancies per cluster\n",
    "print(\"\\nNúmero d'instancies per cluster:\")\n",
    "print(df[\"Cluster\"].value_counts())\n",
    "\n",
    "\n",
    "# Taula % d'etiquetes per cluster\n",
    "bool_cols = df.select_dtypes(include=\"bool\").columns\n",
    "nombre_etiquetes_cluster = df.groupby(\"Cluster\")[bool_cols].sum().T\n",
    "total_instances_etiqueta = df[bool_cols].sum(axis=0)\n",
    "taula_final = nombre_etiquetes_cluster.divide(total_instances_etiqueta, axis=0)\n",
    "taula_final[\"Total\"] = total_instances_etiqueta\n",
    "print(taula_final)\n",
    "\n",
    "# Imprimir el preu mitjà per cada cluster\n",
    "print(\"\\nPreu mitjà  cluster:\")\n",
    "print(df.groupby(\"Cluster\")[\"Preu Mínim\"].mean())"
   ]
  },
  {
   "cell_type": "markdown",
   "id": "fd763d35",
   "metadata": {},
   "source": [
    "En aquest apartat també hem aplicat un contrast d'hipòtesi amb l'objectiu de determinar si la diferència de preus entre dues categories amb més esdeveniments (grans figures i música universal) és estadísticament significativa.\n",
    "\n",
    "Per poder aplicar el test estadístic t-student per comparar les mitjanes dels preus, primer hem hagut de verificar la normalitat i la igualtat de les variàncies.\n",
    "\n",
    "Per comprovar que els dos conjunts segueixen una distribució normal, hem aplicat el test de Shapiro a cada mostra. En els dos casos, el p-valor obtingut ha estat superior a 0.05. Per tant, no podem rebutjar la hipòtesi nul·la, que en aquest test es la normalitat. Això ens permet assumir que les dades segueixen una distribució normal.\n",
    "\n",
    "Per comprovar que les variàncies són iguals, també hem aplicat un test estadístic. El p-valor ha estat major a 0.05, en el cas d'aquest test la hipòtesi nul·la és que les variàncies són iguals i amb aquest p-valor no podem rebutjar-la.\n",
    "\n",
    "A l'executar el test t-student per variàncies iguals, obtenim un p-valor inferior a 0.05, per tant, rebutgem la hipòtesi nul·la que era que les mitjanes son iguals, com a resultat, hi ha una mitjana que es significativament més gran que l'altra.\n",
    "\n",
    "Finalment, hem volgut comprovar quina era i hem fet un test final on en aquest cas la hipòtesi alternativa és que la mitjana de la mostra de grandes figuras és més gran. En el test, tornem a obtenir un valor inferior a 0.05 i rebutgem la hipòtesi nul·la i, per tant, hem de concloure l'esmentat en la hipòtesi alternativa. Els esdeveniments de grandes figuras son més cars que els de música universal."
   ]
  },
  {
   "cell_type": "code",
   "execution_count": 59,
   "id": "9d8d1da2",
   "metadata": {},
   "outputs": [
    {
     "name": "stdout",
     "output_type": "stream",
     "text": [
      "coral                    18\n",
      "conciertosaccesibles      9\n",
      "nuevosformatos           13\n",
      "patrimoniocatalán         4\n",
      "popular                   6\n",
      "enfamilia                11\n",
      "ópera                    19\n",
      "jazz                      2\n",
      "piano                    12\n",
      "estrenos                  3\n",
      "jóvenestalentos           4\n",
      "antigua                  13\n",
      "gradajoven               14\n",
      "sinfónica                31\n",
      "contemporánea             8\n",
      "lied                      6\n",
      "modernismo                6\n",
      "cine                      5\n",
      "músicauniversal          28\n",
      "aniversarios              3\n",
      "moderna                  15\n",
      "grandesfiguras           27\n",
      "flamenco                  5\n",
      "cámara                    8\n",
      "Franja Horària_Matí       2\n",
      "Franja Horària_Nit      115\n",
      "Franja Horària_Tarda     12\n",
      "dtype: int64\n"
     ]
    }
   ],
   "source": [
    "# 4.2 Contrast d'hipòtesis\n",
    "print(df[bool_cols].sum())"
   ]
  },
  {
   "cell_type": "code",
   "execution_count": 60,
   "id": "9eac871e",
   "metadata": {},
   "outputs": [
    {
     "name": "stdout",
     "output_type": "stream",
     "text": [
      "P-valor Test de Shapiro musica universal: 0.1315\n",
      "P-valor Test de Shapiro grandes figuras: 0.1236\n"
     ]
    }
   ],
   "source": [
    "grandesfiguras = df.loc[df[\"grandesfiguras\"], \"Preu Mínim\"].values\n",
    "musicauniversal = df.loc[df[\"músicauniversal\"], \"Preu Mínim\"].values\n",
    "\n",
    "# Test de Shapiro (H0: Normalitat)\n",
    "_, p_value = shapiro(musicauniversal)\n",
    "print(f\"P-valor Test de Shapiro musica universal: {p_value:.4f}\")\n",
    "\n",
    "_, p_value = shapiro(grandesfiguras)\n",
    "print(f\"P-valor Test de Shapiro grandes figuras: {p_value:.4f}\")"
   ]
  },
  {
   "cell_type": "code",
   "execution_count": 61,
   "id": "bb268388",
   "metadata": {},
   "outputs": [
    {
     "name": "stdout",
     "output_type": "stream",
     "text": [
      "P-valor Test de Variànces Iguals: 0.5875\n"
     ]
    }
   ],
   "source": [
    "# Comprovar si les dues mostres tenen variàncies iguals\n",
    "_, p_value = levene(musicauniversal, grandesfiguras)\n",
    "print(f\"P-valor Test de Variànces Iguals: {p_value:.4f}\")"
   ]
  },
  {
   "cell_type": "code",
   "execution_count": 62,
   "id": "484013ce",
   "metadata": {},
   "outputs": [
    {
     "name": "stdout",
     "output_type": "stream",
     "text": [
      "P-valor: 0.0053\n"
     ]
    }
   ],
   "source": [
    "# Test t de Student per comparar les mitjanes dels preus\n",
    "# H0: Les mitjanes dels preus són iguals\n",
    "\n",
    "_, p_value = ttest_ind(grandesfiguras, musicauniversal, equal_var=True)\n",
    "print(f\"P-valor: {p_value:.4f}\")\n"
   ]
  },
  {
   "cell_type": "code",
   "execution_count": 63,
   "id": "a50e510e",
   "metadata": {},
   "outputs": [
    {
     "name": "stdout",
     "output_type": "stream",
     "text": [
      "P-valor (grandesfiguras > musicauniversal): 0.0027\n"
     ]
    }
   ],
   "source": [
    "# H0: Les mitjanes son iguals\n",
    "# H1: mitjana grandesfiguras > mitjana musicauniversal\n",
    "_, p_value = ttest_ind(grandesfiguras, musicauniversal, equal_var=True, alternative='greater')\n",
    "print(f\"P-valor (grandesfiguras > musicauniversal): {p_value:.4f}\")"
   ]
  },
  {
   "cell_type": "code",
   "execution_count": 64,
   "id": "178e5a73",
   "metadata": {},
   "outputs": [],
   "source": [
    "df.to_csv(\"concerts_dataset_analitzat.csv\", sep=\";\", index=False)"
   ]
  },
  {
   "cell_type": "markdown",
   "id": "39da4d59",
   "metadata": {},
   "source": [
    "<div style=\"background-color: #e6f2ff; border-radius: 8px; padding: 18px; margin-bottom: 16px;\">\n",
    "    <strong>5. Representació dels resultats</strong> a partir de taules i gràfiques. Aquest apartat es pot respondre al llarg de la pràctica, sense la necessitat de concentrar totes les representacions en aquest apartat. <br>\n",
    "S'ha de representar tant el contingut del dataset per a observar les proporcions i distribucions de les diferents variables una vegada aplicada l'etapa de neteja, com els resultats obtinguts després de l'etapa d'anàlisi.\n",
    "\n",
    "</div>"
   ]
  },
  {
   "cell_type": "markdown",
   "id": "6962190f",
   "metadata": {},
   "source": [
    "(Respòs al llarg de la pràctica)"
   ]
  },
  {
   "cell_type": "markdown",
   "id": "45ed8465",
   "metadata": {},
   "source": [
    "<div style=\"background-color: #e6f2ff; border-radius: 8px; padding: 18px; margin-bottom: 16px;\">\n",
    "<strong>6. Resolució del problema.</strong> A partir dels resultats obtinguts, quines són les conclusions? Els resultats permeten respondre al problema?\n",
    "</div>"
   ]
  },
  {
   "cell_type": "markdown",
   "id": "dbf11159",
   "metadata": {},
   "source": [
    "A partir dels resultats obtinguts, es pot concloure que el model supervisat no és eficaç per respondre el problema plantejat. En concret, aquest model s'ha fet servir per predir el preu de l'entrada a partir de la classificació de les etiquetes i l'horari d'un esdeveniment. Aquestes variables no han estat suficients per construir un model predictiu precís. \n",
    "\n",
    "Aquestes variables capturen la suficient variabilitat de les dades per un anàlisi predictiu. No vol dir que no es pugui fer, sinó que potser faria falta incorporar noves dades com podrien ser la notorietat de l'artista o altra informació que puguem trobar no estructurada en el repertori.\n",
    "\n",
    "En canvi, els mètodes no supervisats i les proves estadístiques que hem aplicat ens han permès conèixer informació sobre el tipus de programació que es fa al Palau de la Música, un dels altres problemes que havíem plantejat. En el clustering hem pogut classificar, i per tant identificar les característiques, de 3 tipologies diferenciades d'esdeveniments que es fan. El test estadístic també ens ha ajudat de forma efectiva a entendre les relacions que hi ha entre els Preus de diferents etiquetes.\n",
    "\n",
    "En conclusió, el conjunt de dades no és tan bo per practicar el anàlisi predictiu com ens pensàvem, però continua sent útil per poder practicar mètodes d'agrupament no supervisats i els tests estadístics."
   ]
  },
  {
   "cell_type": "markdown",
   "id": "579c6000",
   "metadata": {},
   "source": [
    "<div style=\"background-color: #e6f2ff; border-radius: 8px; padding: 18px; margin-bottom: 16px;\">\n",
    "    <strong>7. Codi.</strong> Cal adjuntar el codi, preferiblement en R, amb el que s’ha realitzat la neteja, anàlisi i representació de les dades. Si ho preferiu, també podeu treballar en Python.\n",
    "</div>"
   ]
  },
  {
   "cell_type": "markdown",
   "id": "e8415e66",
   "metadata": {},
   "source": [
    "https://github.com/jaumebuoc/PRACT2-tcvd.git"
   ]
  },
  {
   "cell_type": "markdown",
   "id": "64fba620",
   "metadata": {},
   "source": [
    "<div style=\"background-color: #e6f2ff; border-radius: 8px; padding: 18px; margin-bottom: 16px;\">\n",
    "<strong>8. Vídeo.</strong> Realitzar un breu vídeo explicatiu de la pràctica (màxim 10 minuts) on tots els integrants de l'equip expliquin amb les seves pròpies paraules el desenvolupament de la pràctica, basant-se en les preguntes de l'enunciat per a justificar i explicar el codi desenvolupat. Aquest vídeo s'haurà de lliurar a través d'un enllaç al Google Drive de la UOC (https://drive.google.com/…), juntament amb l’enllaç al repositori Git lliurat.\n",
    "</div>\n"
   ]
  },
  {
   "cell_type": "markdown",
   "id": "b7b4878d",
   "metadata": {},
   "source": [
    "https://drive.google.com/file/d/1nQvoTNxxljGrGWCCcMNlQYK4MoNIJsXV/view?usp=sharing"
   ]
  }
 ],
 "metadata": {
  "kernelspec": {
   "display_name": "Python 3 (ipykernel)",
   "language": "python",
   "name": "python3"
  },
  "language_info": {
   "codemirror_mode": {
    "name": "ipython",
    "version": 3
   },
   "file_extension": ".py",
   "mimetype": "text/x-python",
   "name": "python",
   "nbconvert_exporter": "python",
   "pygments_lexer": "ipython3",
   "version": "3.10.17"
  }
 },
 "nbformat": 4,
 "nbformat_minor": 5
}
